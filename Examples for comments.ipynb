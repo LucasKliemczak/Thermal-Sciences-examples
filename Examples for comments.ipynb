{
 "cells": [
  {
   "cell_type": "markdown",
   "metadata": {
    "id": "E73ayXwjMmYy"
   },
   "source": [
    "#### Headers\n",
    "# Header 1\n",
    "## Header 2#### Styles\n",
    "*Italic*, **bold**, _underscore_, ~~strikethrough~~#### Hyperlink\n",
    "[hyperlink](https://www.markdownguide.org/)#### Table\n",
    "| Default | Left-aligned | Center-aligned | Right-aligned |\n",
    "|---------|:-------------|:--------------:|--------------:|\n",
    "| Default | Left | Center | Right |#### Others\n",
    "* Bulleted item 1\n",
    "    * Bulleted subitem 1\n",
    "* Bulleted item 2***\n",
    "1. Ordered item 1  \n",
    "    1.1. Ordered subitem 1  \n",
    "2. Ordered item 2***\n",
    "- [ ] Unchecked box\n",
    "- [x] Checked box"
   ]
  },
  {
   "cell_type": "markdown",
   "metadata": {
    "id": "DUBqxedEN1zT"
   },
   "source": []
  },
  {
   "cell_type": "markdown",
   "metadata": {
    "id": "ua09nK5ZN11x"
   },
   "source": []
  },
  {
   "cell_type": "markdown",
   "metadata": {
    "id": "ttcDmG0hOLAr"
   },
   "source": []
  },
  {
   "cell_type": "markdown",
   "metadata": {
    "id": "wvofCxrHN131"
   },
   "source": []
  },
  {
   "cell_type": "markdown",
   "metadata": {
    "id": "0tLUHvPPOHJR"
   },
   "source": [
    "## https://jupyterbook.org/en/stable/content/math.html"
   ]
  },
  {
   "cell_type": "markdown",
   "metadata": {
    "id": "NeicGDGAN15q"
   },
   "source": [
    "$$\n",
    "  \\int_0^\\infty \\frac{x^3}{e^x-1}\\,dx = \\frac{\\pi^4}{15}\n",
    "$$"
   ]
  },
  {
   "cell_type": "code",
   "execution_count": null,
   "metadata": {
    "id": "qYb0jID5MnQq"
   },
   "outputs": [],
   "source": []
  },
  {
   "cell_type": "markdown",
   "metadata": {
    "id": "oBagzw8LN9z1"
   },
   "source": [
    "\\begin{gather*}\n",
    "a_1=b_1+c_1\\\\\n",
    "a_2=b_2+c_2-d_2+e_2\n",
    "\\end{gather*}\n",
    "\n",
    "\\begin{align}\n",
    "a_{11}& =b_{11}&\n",
    "  a_{12}& =b_{12}\\\\\n",
    "a_{21}& =b_{21}&\n",
    "  a_{22}& =b_{22}+c_{22}\n",
    "\\end{align}"
   ]
  },
  {
   "cell_type": "markdown",
   "metadata": {
    "id": "0-VUD93lOHHc"
   },
   "source": [
    "\\begin{equation}\n",
    "   E = mc^2\n",
    "\\end{equation}"
   ]
  },
  {
   "cell_type": "markdown",
   "metadata": {
    "id": "-kko6npFZmlk"
   },
   "source": [
    "## https://gtribello.github.io/mathNET/assets/notebook-writing.html"
   ]
  },
  {
   "cell_type": "markdown",
   "metadata": {
    "id": "-ER6GNyZZqnV"
   },
   "source": [
    "$$ \\left( \\begin{array}{cc} 1 & 2 \\\\ 3 & 4 \\end{array}\\right)\n",
    "\\left( \\begin{array}{c} 5 \\\\ 6 \\end{array} \\right) =\n",
    "\\mathbf{\\underline{V}}$$"
   ]
  },
  {
   "cell_type": "code",
   "execution_count": null,
   "metadata": {
    "id": "ds_UMd--Zyll"
   },
   "outputs": [],
   "source": []
  }
 ],
 "metadata": {
  "colab": {
   "authorship_tag": "ABX9TyM9RIBSMAY80aljgIrSxrvd",
   "provenance": []
  },
  "kernelspec": {
   "display_name": "Python 3 (ipykernel)",
   "language": "python",
   "name": "python3"
  },
  "language_info": {
   "codemirror_mode": {
    "name": "ipython",
    "version": 3
   },
   "file_extension": ".py",
   "mimetype": "text/x-python",
   "name": "python",
   "nbconvert_exporter": "python",
   "pygments_lexer": "ipython3",
   "version": "3.10.9"
  }
 },
 "nbformat": 4,
 "nbformat_minor": 1
}
